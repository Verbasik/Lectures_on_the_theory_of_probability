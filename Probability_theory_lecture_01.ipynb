{
  "cells": [
    {
      "cell_type": "code",
      "execution_count": 1,
      "metadata": {
        "id": "k0tkl49hnNQf"
      },
      "outputs": [],
      "source": [
        "from math import factorial \n",
        "import numpy as np"
      ]
    },
    {
      "attachments": {},
      "cell_type": "markdown",
      "metadata": {
        "id": "sPaM21ze3P8A"
      },
      "source": [
        "## Комбинаторика"
      ]
    },
    {
      "attachments": {},
      "cell_type": "markdown",
      "metadata": {
        "id": "T--CZ3Swyf1v"
      },
      "source": [
        "### Перестановки\n",
        "\n",
        "Перестановками называют различные комбинации из n одних и тех же объектов, расположенных в разном порядке\n",
        "\n",
        "$P_n = n*(n-1)*(n-2)*... *2*1 == n!$\n",
        "\n",
        "![Перестановки](https://www.matburo.ru/tv/P1.png)"
      ]
    },
    {
      "cell_type": "code",
      "execution_count": 2,
      "metadata": {
        "id": "nCN6XQXFsRew"
      },
      "outputs": [],
      "source": [
        "def permutation(n):\n",
        "    return factorial(n)"
      ]
    },
    {
      "attachments": {},
      "cell_type": "markdown",
      "metadata": {
        "id": "4UQhOdC6nKC9"
      },
      "source": [
        "Сколькими способами можно рассадить за столом 5 членов семьи?"
      ]
    },
    {
      "cell_type": "code",
      "execution_count": 3,
      "metadata": {
        "colab": {
          "base_uri": "https://localhost:8080/"
        },
        "id": "aAAeudVRoALZ",
        "outputId": "c95bf2e5-5522-4194-d7f1-4df7fbcb6d27"
      },
      "outputs": [
        {
          "name": "stdout",
          "output_type": "stream",
          "text": [
            "Число способов: 120\n"
          ]
        }
      ],
      "source": [
        "answer = permutation(5)\n",
        "\n",
        "print(\"Число способов:\", answer)"
      ]
    },
    {
      "attachments": {},
      "cell_type": "markdown",
      "metadata": {
        "id": "2XxH9u8vyf4o"
      },
      "source": [
        "#### Размещения\n",
        "\n",
        "Размещениями называют различные комбинации из k объектов, которые выбраны из множества n различных объектов, и которые отличаются друг от друга как составом объектов в выборке, так и их порядком.\n",
        "\n",
        "$ A_n^k = \\frac{n!}{(n-k)!} $ \n",
        "\n",
        "$ (k)_r = n*(n-1)* ... *(n-k+1) = \\frac{n*(n-1)* ... *(n-k+1)*(n-k)* ... * 1}{(n-k)* ... * 1} = \\frac{n!}{(n-k)!} $\n",
        "\n",
        "![Размещения](https://www.matburo.ru/tv/A1.png)"
      ]
    },
    {
      "cell_type": "code",
      "execution_count": 4,
      "metadata": {
        "id": "7xWElxiUrUFe"
      },
      "outputs": [],
      "source": [
        "def arrangement (n, k):\n",
        "    return factorial(n) / factorial(n-k) if 0 <= k <= n else 0"
      ]
    },
    {
      "attachments": {},
      "cell_type": "markdown",
      "metadata": {
        "id": "KLZVYt8vtRBo"
      },
      "source": [
        "Мы хотим открыть сейф, но забыли код от замка. Мы точно знаем, что код состоит из 4-х цифр и все цифры разные. Какое число попыток нам в худшем случае понадобится, чтобы открыть сейф?"
      ]
    },
    {
      "cell_type": "code",
      "execution_count": 5,
      "metadata": {
        "colab": {
          "base_uri": "https://localhost:8080/"
        },
        "id": "RxjHPW9jsvyC",
        "outputId": "21d9d737-d76b-4115-c3b8-43253cf8c6cd"
      },
      "outputs": [
        {
          "name": "stdout",
          "output_type": "stream",
          "text": [
            "Число попыток: 5040.0\n"
          ]
        }
      ],
      "source": [
        "answer = arrangement(10, 4)\n",
        "\n",
        "print(\"Число попыток:\", answer)"
      ]
    },
    {
      "attachments": {},
      "cell_type": "markdown",
      "metadata": {
        "id": "V29KE-nbyPcE"
      },
      "source": [
        "А если могут быть одинаковые цифры?"
      ]
    },
    {
      "cell_type": "code",
      "execution_count": 6,
      "metadata": {
        "id": "NwHOtLzUyOx5"
      },
      "outputs": [
        {
          "name": "stdout",
          "output_type": "stream",
          "text": [
            "Число попыток: 10000\n"
          ]
        }
      ],
      "source": [
        "answer = 10 ** 4\n",
        "\n",
        "print(\"Число попыток:\", answer)"
      ]
    },
    {
      "attachments": {},
      "cell_type": "markdown",
      "metadata": {
        "id": "4WZxtjxMyf7E"
      },
      "source": [
        "#### Сочетания\n",
        "\n",
        "Сочетаниями называют различные комбинации из k объектов, которые выбраны из множества n различных объектов, и которые отличаются друг от друга составом объектов в выборке.\n",
        "\n",
        "$ C_n^k = \\frac{(p)_k}{k!} = \\frac{n!}{(n-k)!*k!} $ \n",
        "\n",
        "![Сочетания](https://www.matburo.ru/tv/C2.png)"
      ]
    },
    {
      "cell_type": "code",
      "execution_count": 7,
      "metadata": {
        "id": "2eK0NLnVs1Ux"
      },
      "outputs": [],
      "source": [
        "def combination (n, k):\n",
        "    return factorial(n) / (factorial(n-k) * factorial(k)) if 0 <= k <= n else 0"
      ]
    },
    {
      "attachments": {},
      "cell_type": "markdown",
      "metadata": {
        "id": "x0PTgoENzVky"
      },
      "source": [
        "При игре в разновидность покера Draw poker, игрокам при первой раздаче получают по 5 случайных карт из колоды в 52 карты. Какое количество различных наборов карт можно получить игроку на первой раздаче?\n"
      ]
    },
    {
      "cell_type": "code",
      "execution_count": 8,
      "metadata": {
        "colab": {
          "base_uri": "https://localhost:8080/"
        },
        "id": "6hN10trL2m2M",
        "outputId": "22cf72fc-0fb7-4f2c-e493-d7e42dc95e94"
      },
      "outputs": [
        {
          "name": "stdout",
          "output_type": "stream",
          "text": [
            "Число наборов: 2598960.0\n"
          ]
        }
      ],
      "source": [
        "answer = combination(52, 5)\n",
        "\n",
        "print(\"Число наборов:\", answer)"
      ]
    },
    {
      "attachments": {},
      "cell_type": "markdown",
      "metadata": {
        "id": "jJ8JczQ8yf9r"
      },
      "source": [
        "## Классическое определение вероятности"
      ]
    },
    {
      "attachments": {},
      "cell_type": "markdown",
      "metadata": {
        "id": "bH4zeHip748N"
      },
      "source": [
        "Вероятностью наступления события А в некотором испытании называют отношение $\\frac{m}{n}$, \\\n",
        "где m - количество элементарных исходов, благоприятствующих событию A; \\\n",
        "n - число всех возможных элементарных исходов."
      ]
    },
    {
      "attachments": {},
      "cell_type": "markdown",
      "metadata": {
        "id": "fFRdzSCv9nL4"
      },
      "source": [
        "Пример:\n",
        "\n",
        "Событие А - при броске шестигранного кубика выпало четное число; \\\n",
        "Подходящие исходы: {2, 4, 6} \\\n",
        "Все возможные: {1, 2, 3, 4, 5, 6}\n",
        "\n"
      ]
    },
    {
      "attachments": {},
      "cell_type": "markdown",
      "metadata": {
        "id": "Y6W0dTc5M1-z"
      },
      "source": [
        "Каждый из трех котов спит в одной из трех коробок. Найти вероятность того, что все коты будут спать в одной коробке, если они выбирают каждую коробку равновероятно и независимо друг от друга."
      ]
    },
    {
      "cell_type": "code",
      "execution_count": 9,
      "metadata": {
        "colab": {
          "base_uri": "https://localhost:8080/"
        },
        "id": "slTBtiPr-qMo",
        "outputId": "d09f0908-0aa4-404d-eba5-bc6c506edc67"
      },
      "outputs": [
        {
          "name": "stdout",
          "output_type": "stream",
          "text": [
            "Вероятность: 0.1111111111111111\n"
          ]
        }
      ],
      "source": [
        "answer = 3*1/27\n",
        "\n",
        "print(\"Вероятность:\", answer)"
      ]
    },
    {
      "attachments": {},
      "cell_type": "markdown",
      "metadata": {
        "id": "Ueqe-OfyD5B-"
      },
      "source": [
        "Какова вероятность того, что в четырех сданных картах из колоды в 36 карт будет один туз и один король?"
      ]
    },
    {
      "cell_type": "code",
      "execution_count": 10,
      "metadata": {
        "id": "lbxEG64CEDau"
      },
      "outputs": [
        {
          "name": "stdout",
          "output_type": "stream",
          "text": [
            "Вероятность: None\n"
          ]
        }
      ],
      "source": [
        "answer = None\n",
        "\n",
        "print(\"Вероятность:\", answer)"
      ]
    },
    {
      "attachments": {},
      "cell_type": "markdown",
      "metadata": {
        "id": "CvpXn1yYygAM"
      },
      "source": [
        "## Геометрическая вероятность"
      ]
    },
    {
      "attachments": {},
      "cell_type": "markdown",
      "metadata": {
        "id": "U8TZPPJTGWe4"
      },
      "source": [
        "Когда мы не можем занумеровать все исходы, то можно воспользоваться трюком: представить количество исходов, как площади геометрических фигур. \\\n",
        "Тогда вероятностью будем считать отношение двух площадей."
      ]
    },
    {
      "attachments": {},
      "cell_type": "markdown",
      "metadata": {
        "id": "-XtgLiyrRpdU"
      },
      "source": [
        "Пример: \\\n",
        "Коля и Петя договорились встретиться на остановке автобуса между 9 и 10 часами. Каждый, придя на остановку, ждет другого 15 минут, а потом уезжает. Найти вероятность их встречи.\n",
        "\n",
        "\n",
        "![image.png](data:image/png;base64,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)"
      ]
    },
    {
      "attachments": {},
      "cell_type": "markdown",
      "metadata": {
        "id": "wXQOLE6QIRU3"
      },
      "source": [
        "Как посчитать вероятность?"
      ]
    },
    {
      "cell_type": "code",
      "execution_count": 11,
      "metadata": {
        "colab": {
          "base_uri": "https://localhost:8080/"
        },
        "id": "vvrkBxSuIX62",
        "outputId": "47c80804-ea5f-4fa7-9e05-26c03b9a0009"
      },
      "outputs": [
        {
          "name": "stdout",
          "output_type": "stream",
          "text": [
            "Вероятность встречи: 0.4375\n"
          ]
        }
      ],
      "source": [
        "prob = (60* 60 - (2 * (1/2 * 45 * 45))) / (60 * 60)\n",
        "\n",
        "print('Вероятность встречи:', prob)"
      ]
    },
    {
      "attachments": {},
      "cell_type": "markdown",
      "metadata": {
        "id": "w6tcvy6mInzk"
      },
      "source": [
        "## Действия над событиями"
      ]
    },
    {
      "attachments": {},
      "cell_type": "markdown",
      "metadata": {
        "id": "9Stsar7_m1jc"
      },
      "source": [
        "Независимые события: \\\n",
        "$P(A\\cap B) = P(A) * P(B)$\n",
        "\n",
        "![Пересечение](https://upload.wikimedia.org/wikipedia/commons/thumb/9/99/Venn0001.svg/300px-Venn0001.svg.png)\n",
        "\n",
        "Объединение событий: \\\n",
        "$P(A\\cup B) = P(A) + P(B) - P(A\\cap B)$ \n",
        "\n",
        "Если нет общих элементарных исходов: \\\n",
        "$P(A\\cup B) = P(A) + P(B)$\n",
        "\n",
        "![Объединение](https://upload.wikimedia.org/wikipedia/commons/thumb/3/30/Venn0111.svg/300px-Venn0111.svg.png)\n",
        "\n",
        "Противоположное событие: \\\n",
        "$P(\\overline A) = 1 - P(A)$\n",
        "\n",
        "![Дополнение](https://upload.wikimedia.org/wikipedia/commons/thumb/e/eb/Venn1010.svg/300px-Venn1010.svg.png)"
      ]
    },
    {
      "attachments": {},
      "cell_type": "markdown",
      "metadata": {
        "id": "il03HaiSPD81"
      },
      "source": [
        "### Задачи: \n",
        "\n",
        "1. Вы должны выбрать одну из двух ставок. При первом варианте вы должны забросить баскетбольный мяч в корзину. Если попадёте, то получите 50 тыс. рублей. Во втором варианте вам надо попасть два раза из трёх бросков, и тогда вы также получите те же 50 тыс. рублей. Какой из этих вариантов вы предпочтёте, если вероятность попадания при броске 0.7? А если 0.3?\n",
        "\n",
        "2. Стержень длины l разломан в двух наудачу выбранных точках. Чему равна вероятность того, что из полученных отрезков можно составить треугольник?\n",
        "\n",
        "3. Предположим, у нас есть три варианта, среди которых мы хотим выбрать один случайным образом. Еще у нас есть монетка. Как с помощью подбрасывания монетки выбрать один вариант из трех случайным образом с одинаковой вероятностью?"
      ]
    },
    {
      "cell_type": "code",
      "execution_count": 12,
      "metadata": {
        "colab": {
          "base_uri": "https://localhost:8080/"
        },
        "id": "fX-zyxS5bevF",
        "outputId": "e1caba94-d54e-4f05-9060-6d49a86fbca9"
      },
      "outputs": [
        {
          "name": "stdout",
          "output_type": "stream",
          "text": [
            "0.5 0.5\n"
          ]
        }
      ],
      "source": [
        "#Задача 1\n",
        "\n",
        "p = 0.5\n",
        "\n",
        "time_3 = p ** 3\n",
        "time_2 = 3 * p ** 2 * (1 - p)\n",
        "time_1 = 3 * p * (1 - p) ** 2\n",
        "time_0 = (1 - p) ** 3\n",
        "\n",
        "p_23 = time_3 + time_2\n",
        "\n",
        "print(p, p_23)"
      ]
    },
    {
      "cell_type": "code",
      "execution_count": 13,
      "metadata": {
        "colab": {
          "base_uri": "https://localhost:8080/"
        },
        "id": "k5h08trNvfEf",
        "outputId": "9d19eff7-613e-42a2-9e52-6320a1ce37ab"
      },
      "outputs": [
        {
          "name": "stdout",
          "output_type": "stream",
          "text": [
            "1\n"
          ]
        }
      ],
      "source": [
        "#Задача 3\n",
        "\n",
        "def random_2():\n",
        "    return np.random.randint(1, 3)\n",
        "\n",
        "def random_3():\n",
        "    res1 = random_2()\n",
        "    res2 = random_2()\n",
        "\n",
        "    if res1 == 1 and res2 == 1: \n",
        "        return 1\n",
        "    if res1 == 1 and res2 == 2 : \n",
        "        return 2\n",
        "    if res1 == 2 and res2 == 1: \n",
        "        return 3\n",
        "    return random_3()\n",
        "\n",
        "\n",
        "print(random_3())"
      ]
    },
    {
      "attachments": {},
      "cell_type": "markdown",
      "metadata": {
        "id": "M1lWQGM74aGR"
      },
      "source": [
        "Задача 2:\\\n",
        "Длина стержня 1\\\n",
        "a, b, c, причем c = 1 - (a + b);\n",
        "\n",
        "a + b > c;\\\n",
        "a + c > b;\\\n",
        "b + c > a;\n",
        "\n",
        "Идея: использовать геометрическую вероятность:\\\n",
        "a < 1/2;\\\n",
        "b < 1/2;\\\n",
        "a > 1/2 - b;\n",
        "\n",
        "ось x - длина a, ось y - длина b\n",
        "\n",
        "Не забыть убрать половину квадрата, где a+b > 1(диагональ)"
      ]
    },
    {
      "attachments": {},
      "cell_type": "markdown",
      "metadata": {
        "id": "vxw9XNxTygDR"
      },
      "source": [
        "## Математическое ожидание\n",
        "\n",
        "* Математическое ожидание - это концепция в математике и статистике, которая позволяет оценить среднюю или ожидаемую величину результата случайного события. Оно представляет собой среднее значение, которое можно ожидать получить при многократном повторении эксперимента или случайного события."
      ]
    },
    {
      "attachments": {},
      "cell_type": "markdown",
      "metadata": {
        "id": "6xQgqafsYYIM"
      },
      "source": [
        "#### Закон распределения дискретной случайной величины:\n",
        " \n",
        " ![Вероятность](http://www.mathprofi.ru/t/sluchainaya_velichina_clip_image020.jpg)\n",
        "\n",
        "Необходимое условие: $\\sum_{i=1}^{n}p_i = 1$\n",
        "\n",
        "#### Пример для шестигранного кубика:\n",
        "\n",
        " ![Вероятности пример](http://www.mathprofi.ru/t/sluchainaya_velichina_clip_image028.jpg)\n",
        "\n",
        "\n",
        "#### Матожидание находится по формуле:\n",
        "\n",
        "$E(x) = \\sum_{i=1}^{n}p_i*k_i$"
      ]
    },
    {
      "attachments": {},
      "cell_type": "markdown",
      "metadata": {
        "id": "Jhj0eNSedOEt"
      },
      "source": [
        "Можно ли выиграть в рулетку или на чем зарабатывает казино?"
      ]
    },
    {
      "cell_type": "code",
      "execution_count": 14,
      "metadata": {
        "id": "XPJ3ynjOd9ro"
      },
      "outputs": [],
      "source": [
        "def mean(prob_dict):\n",
        "    return sum((value*prob_dict[value] for value in prob_dict))"
      ]
    },
    {
      "cell_type": "code",
      "execution_count": 15,
      "metadata": {
        "colab": {
          "base_uri": "https://localhost:8080/"
        },
        "id": "g--QC-WUxm3R",
        "outputId": "5b12967a-f441-42f8-ae1f-2b7eea11d4d7"
      },
      "outputs": [
        {
          "data": {
            "text/plain": [
              "-0.027027027027026973"
            ]
          },
          "execution_count": 15,
          "metadata": {},
          "output_type": "execute_result"
        }
      ],
      "source": [
        "#поставили на красное\n",
        "\n",
        "#1 рубль - ставка, 2 рубля в случае выигрыша;\n",
        "\n",
        "prob_dict = {2: 18/37, \n",
        "             0: 19/37}\n",
        "\n",
        "mean(prob_dict) - 1"
      ]
    },
    {
      "cell_type": "code",
      "execution_count": 16,
      "metadata": {
        "colab": {
          "base_uri": "https://localhost:8080/"
        },
        "id": "gvH3GlQY55EK",
        "outputId": "981f6b8b-f971-48ab-91d5-6f3c23083328"
      },
      "outputs": [
        {
          "data": {
            "text/plain": [
              "-0.027027027027026973"
            ]
          },
          "execution_count": 16,
          "metadata": {},
          "output_type": "execute_result"
        }
      ],
      "source": [
        "#поставили на 13\n",
        "\n",
        "#1 рубль - ставка, 36 рублей в случае выигрыша;\n",
        "\n",
        "prob_dict = {36: 1/37, \n",
        "             0: 36/37}\n",
        "\n",
        "mean(prob_dict) - 1"
      ]
    },
    {
      "attachments": {},
      "cell_type": "markdown",
      "metadata": {
        "id": "wvUaeZerMw_c"
      },
      "source": [
        "## Дисперсия\n",
        "\n",
        "* Дисперсия - это мера разброса или изменчивости значений в наборе данных. Она показывает, насколько сильно отдельные значения отклоняются от среднего значения."
      ]
    },
    {
      "attachments": {},
      "cell_type": "markdown",
      "metadata": {
        "id": "TyJUTiXldjbL"
      },
      "source": [
        "Дисперсия - средний квадрат отклонения случайной величины от ее среднего:\n",
        "\n",
        "$D(X) = E[(X - E(X))^2]$\n",
        "\n",
        "Так же можно считать по формуле:\n",
        "\n",
        "$D(X) = E(X^2) - E(X)^2$\n",
        "\n",
        "Среднеквадратичное отклонение:\n",
        "\n",
        "$\\sigma = \\sqrt{D(X)}$"
      ]
    },
    {
      "cell_type": "code",
      "execution_count": 17,
      "metadata": {
        "id": "2rAzJ--UekYK"
      },
      "outputs": [],
      "source": [
        "def var_1(prob_dict):\n",
        "    return mean({(value - mean(prob_dict))**2 : prob_dict[value] for value in prob_dict})\n",
        "\n",
        "def var_2(prob_dict):\n",
        "    return mean({value**2 : prob_dict[value] for value in prob_dict}) - (mean(prob_dict))**2"
      ]
    },
    {
      "attachments": {},
      "cell_type": "markdown",
      "metadata": {
        "id": "yibifbljRlIQ"
      },
      "source": [
        "## Распределения"
      ]
    },
    {
      "attachments": {},
      "cell_type": "markdown",
      "metadata": {
        "id": "fbiAnxjmR2NG"
      },
      "source": [
        "### Распределение Бернулли\n",
        "\n",
        "* Моделирует случайную величину с двумя исходами, один их которых обозначается как успех;\n",
        "* Характеризуется одним параметром: p — вероятность успеха;\n",
        "* Другой исход обозначается как неудача, его вероятность равна 1 − p.\n",
        "\n",
        "Моделируем эксперимент с известной вероятностью успеха, 1 - успех, 0 - неудача:\n",
        "\n",
        "$\n",
        "B(X) = \n",
        " \\begin{cases}\n",
        "   q, X=0 \\\\\n",
        "   p, X=1\n",
        " \\end{cases}\n",
        "$\n",
        "\n",
        "$E(B(X)) = q*0 + p*1 = p$ \n",
        "\n",
        "$D[B(X)] = E[B(X^2)] - E[B(X)]^2 = 0^2*q + 1^2*p - p^2 = p - p^2 = p(1 - p) = pq$"
      ]
    },
    {
      "attachments": {},
      "cell_type": "markdown",
      "metadata": {
        "id": "bMaQA1o4qwHz"
      },
      "source": [
        "Для монетки:\n",
        "\n",
        "$E(X) = \\frac{1}{2}$ \n",
        "\n",
        "$D(X) = \\frac{1}{4}$"
      ]
    },
    {
      "attachments": {},
      "cell_type": "markdown",
      "metadata": {
        "id": "5LhShOgnjwKj"
      },
      "source": [
        "### Геометрическое распределение\n",
        "\n",
        "Серия испытаний Бернулли до первого успеха:\n",
        "\n",
        "![Геометрическое распределение](http://www.mathprofi.ru/t/geometricheskoe_raspredelenie_veroyatnostei_clip_image030.jpg)\n",
        "\n",
        "$Geom_p(n) = q^{n-1}*p$ \n",
        "\n",
        "$E[Geom_p(n)] = \\frac{1}{p}$ \n",
        "\n",
        "$D[Geom_p(n)] = \\frac{q}{p^2}$"
      ]
    },
    {
      "attachments": {},
      "cell_type": "markdown",
      "metadata": {
        "id": "MMDg9RNRue1p"
      },
      "source": [
        "Предположим, у нас есть три варианта, среди которых мы хотим выбрать один случайным образом. Еще у нас есть монетка. Как с помощью подбрасывания монетки выбрать один вариант из трех случайным образом с одинаковой вероятностью? **Сколько в среднем бросков нужно будет сделать?**"
      ]
    },
    {
      "cell_type": "code",
      "execution_count": 18,
      "metadata": {
        "cellView": "both",
        "colab": {
          "base_uri": "https://localhost:8080/"
        },
        "id": "PDqQ9v2BvN6z",
        "outputId": "a1d53ab5-bff6-4c7e-93e4-697848e2a0fb"
      },
      "outputs": [
        {
          "name": "stdout",
          "output_type": "stream",
          "text": [
            "Число бросков: 2.6666666666666665\n"
          ]
        }
      ],
      "source": [
        "p = 3/4\n",
        "E = 1 / p\n",
        "print('Число бросков:', 2 * E)"
      ]
    },
    {
      "attachments": {},
      "cell_type": "markdown",
      "metadata": {
        "id": "k-YGs0SRR3YK"
      },
      "source": [
        "### Биномиальное распределение\n",
        "\n",
        "* Моделирует количество успехов в серии независимых экспериментов по схеме Бернулли, — эти эксперименты часто называют испытаниями;\n",
        "* Характеризуется двумя параметрами: n — количество испытаний и p — вероятность успеха в каждом из них;\n",
        "* Значения случайной величины — количество успехов: целые числа от 0 до n;\n",
        "* Формула вероятности k успехов: $P(X = k) = C_n^k ⋅ p^k ⋅ (1 − p)^{n-k}$ , n где $C_n^k$ — число сочетаний, k — количество успехов;\n",
        "* Математическое ожидание: $E (X ) = n ⋅ p$;\n",
        "* Дисперсия: $Var(X)=n⋅p⋅(1−p)$.\n",
        "\n",
        "Количество успехов в серии испытания Бернулли:\n",
        "\n",
        "![Биномиальное распределение](http://www.mathprofi.ru/t/binomialnoe_raspredelenie_veroyatnostei_clip_image031.jpg)\n",
        "\n",
        "$Bin_{p, n}(k) = C_k^n*p^k*q^{n-k}$\n",
        "\n",
        "$E[Bin_{p, n}(k)] = np$\n",
        "\n",
        "$D[Bin_{p, n}(k)] = npq$"
      ]
    },
    {
      "attachments": {},
      "cell_type": "markdown",
      "metadata": {
        "id": "ROwqrce7zXiK"
      },
      "source": [
        "Вероятность поражения цели при одном выстреле равна 0,6. Составить закон распределения случайной величины $X$ – числа попаданий в цель при четырех выстрелах. Вычислить $E(X)$ и $D(X)$."
      ]
    },
    {
      "cell_type": "code",
      "execution_count": 19,
      "metadata": {
        "colab": {
          "base_uri": "https://localhost:8080/"
        },
        "id": "Gyg8gQGj0JH3",
        "outputId": "69ddab04-4ac2-49cf-a49c-6f25226427b0"
      },
      "outputs": [
        {
          "data": {
            "text/plain": [
              "0.47519999999999996"
            ]
          },
          "execution_count": 19,
          "metadata": {},
          "output_type": "execute_result"
        }
      ],
      "source": [
        "combination(4, 3) * 0.6 ** 3 * (1-0.6) ** 1 + combination(4, 4) * 0.6 ** 4"
      ]
    },
    {
      "attachments": {},
      "cell_type": "markdown",
      "metadata": {
        "id": "KRu_KxPrSUXz"
      },
      "source": [
        "### Нормальное распределение\n",
        "\n",
        "Норма́льное распределе́ние, также называемое распределением Гаусса или Гаусса — Лапласа, или колоколообразная кривая — непрерывное распределение вероятностей с пиком в центре и симметричными боковыми сторонами, которое в одномерном случае задаётся функцией плотности вероятности, совпадающей с функцией Гаусса:  $N_{\\mu, \\sigma}(x) = \\frac{1}{\\sigma*\\sqrt{2\\pi}}^{\\frac{(x-\\mu)^2}{2\\sigma^2}}$\n",
        "\n",
        "* Моделирует непрерывную случайную величину, которая подчиняется нормальному закону распределения: значения ближе к центру более вероятны, чем те, что далеко от него;\n",
        "* μ — математическое ожидание (среднее значение);\n",
        "* σ — среднеквадратическое отклонение;\n",
        "* $\\sigma^2$ — дисперсия распределения."
      ]
    },
    {
      "attachments": {},
      "cell_type": "markdown",
      "metadata": {
        "id": "Ko2vvs652USM"
      },
      "source": [
        "Описывает объекты реального мира:\n",
        " \n",
        " $N_{\\mu, \\sigma}(x) = \\frac{1}{\\sigma*\\sqrt{2\\pi}}^{\\frac{(x-\\mu)^2}{2\\sigma^2}}$\n",
        "\n",
        " $E[N_{\\mu, \\sigma}(x)] = \\mu$\n",
        "\n",
        " $D[N_{\\mu, \\sigma}(x)] = \\sigma^2$"
      ]
    },
    {
      "attachments": {},
      "cell_type": "markdown",
      "metadata": {
        "id": "hkgoD6C9AfM6"
      },
      "source": [
        "Для нормального распределения полезно использовать правило \"трех сигм\"\n",
        "\n",
        "![правило 3-х сигм](https://wiki.loginom.ru/images/3-sigma.svg)"
      ]
    },
    {
      "attachments": {},
      "cell_type": "markdown",
      "metadata": {
        "id": "VoyQbyuV-LIL"
      },
      "source": [
        "Пусть средний рост мужчин в России 176 см, а стандартное отклонение - 8 см. Найти вероятность того, что a) случайно встреченный на улице мужчина будет выше 192 см; б) ниже 168 см."
      ]
    },
    {
      "cell_type": "code",
      "execution_count": 20,
      "metadata": {
        "cellView": "both",
        "colab": {
          "base_uri": "https://localhost:8080/"
        },
        "id": "Y0VYb07V8-_K",
        "outputId": "3321b992-3df1-431d-9043-7b5e2ef1f39e"
      },
      "outputs": [
        {
          "name": "stdout",
          "output_type": "stream",
          "text": [
            "Вероятность (выше 192 см): 0.02275013194817921\n",
            "Вероятность (ниже 168 см): 0.15865525393145707\n"
          ]
        }
      ],
      "source": [
        "# Импорт модуля stats из библиотеки scipy\n",
        "from scipy import stats as st\n",
        "\n",
        "# Задание значения среднего (mu) и стандартного отклонения (sigma) нормального распределения\n",
        "mu = 176\n",
        "sigma = 8\n",
        "\n",
        "# Задание верхнего и нижнего порога\n",
        "top_threshold = 192\n",
        "bot_threshold = 168\n",
        "\n",
        "# Создание объекта нормального распределения с заданными параметрами\n",
        "distr = st.norm(mu, sigma)\n",
        "\n",
        "# Функция cdf() возвращает значение функции распределения (Cumulative Distribution Function) для заданного аргумента.\n",
        "# Вычисление вероятности для значения выше верхнего порога (192)\n",
        "p_top = 1 - distr.cdf(192)\n",
        "\n",
        "# Вычисление вероятности для значения ниже нижнего порога (168)\n",
        "p_bot = distr.cdf(168)\n",
        "\n",
        "# Вывод результатов на экран\n",
        "print('Вероятность (выше 192 см):', p_top)\n",
        "print('Вероятность (ниже 168 см):', p_bot)\n"
      ]
    },
    {
      "attachments": {},
      "cell_type": "markdown",
      "metadata": {},
      "source": [
        "### Сumulative Distribution Function (кумулятивная функция распределения)\n"
      ]
    },
    {
      "attachments": {},
      "cell_type": "markdown",
      "metadata": {
        "id": "qCqVnTRPGEOJ"
      },
      "source": [
        "CDF (Функция распределения) – это вероятность того, что вы получите значение <= x для данного значения x:\n",
        "\n",
        "$CDF(x) = P(X <= x)$"
      ]
    },
    {
      "cell_type": "code",
      "execution_count": 21,
      "metadata": {
        "colab": {
          "base_uri": "https://localhost:8080/",
          "height": 374
        },
        "id": "iEbMSUTpDJ1T",
        "outputId": "92f7fcdf-5458-4415-fa39-72289cd828c0"
      },
      "outputs": [
        {
          "data": {
            "image/png": "[encoded data removed]",
            "text/plain": [
              "<Figure size 1000x600 with 1 Axes>"
            ]
          },
          "metadata": {},
          "output_type": "display_data"
        }
      ],
      "source": [
        "import matplotlib.pyplot as plt    # Импорт модуля для построения графиков\n",
        "import numpy as np                 # Импорт модуля для работы с массивами\n",
        "\n",
        "x = np.arange(136, 216.5, 0.5)     # Создание массива чисел от 136 до 216.5 с шагом 0.5\n",
        "y = [distr.cdf(i) for i in x]      # Создание массива значений, полученных применением функции cdf() на каждом элементе массива x\n",
        "\n",
        "with plt.style.context(\"ggplot\"):  # Установка стиля ggplot для графика\n",
        "    plt.figure(figsize=(10, 6))    # Создание нового графика с размером 10 на 6 дюймов\n",
        "\n",
        "    plt.plot(x, y)                                # Построение линейного графика, используя значения x и y\n",
        "    plt.axhline(y=0.5, color='b', linestyle='--') # Добавление горизонтальной пунктирной линии на уровне y=0.5 с синим цветом\n",
        "    plt.axvline(x=mu, color='b', linestyle='--')  # Добавление вертикальной пунктирной линии на уровне x=mu с синим цветом\n",
        "    plt.axvline(x=168, color='k', linestyle='--') # Добавление вертикальной пунктирной линии на уровне x=168 с черным цветом\n",
        "    plt.axvline(x=192, color='k', linestyle='--') # Добавление вертикальной пунктирной линии на уровне x=192 с черным цветом\n",
        "    \n",
        "    plt.show()  # Отображение графика\n"
      ]
    },
    {
      "attachments": {},
      "cell_type": "markdown",
      "metadata": {
        "id": "nVckMQttCBFl"
      },
      "source": [
        "\n",
        "Интернет-магазин «Супервип» продаёт сувенирную продукцию для очень узкой аудитории корпоративных клиентов. Продажи премиальных шахмат из бивня мамонта за неделю в штуках распределены нормально со средним значением 420 и стандартным отклонением 65. \n",
        "\n",
        "Как обычно, в пятницу вечером менеджер Снежанна торопилась к друзьям и спешно оформляла предзаказ на следующую неделю — конечно же, шахмат! Как вдруг в офис влетел менеджер Геннадий: «Что я узнал! Через неделю выйдут бомбические шашки, расписанные Софроном Никифоровым. Они будут круче тех шахмат из мамонта, ну вы поняли. Срочно их продать за следующую неделю. Все!» Снежанна резко перестала торопиться к друзьям. \n",
        "\n",
        "\n",
        "Сколько Снежанна должна заказать наборов шахмат из бивня мамонта, чтобы продать их все на следующей неделе с вероятностью 90%? (Склад перед поставкой на следующую неделю будет уже пуст)."
      ]
    },
    {
      "cell_type": "code",
      "execution_count": 22,
      "metadata": {
        "colab": {
          "base_uri": "https://localhost:8080/"
        },
        "id": "-W9DrOzPCG_d",
        "outputId": "5e5d9f1a-93b1-4788-af1f-fcc073d63a1b"
      },
      "outputs": [
        {
          "name": "stdout",
          "output_type": "stream",
          "text": [
            "Нужно заказать единиц товара: 336\n"
          ]
        }
      ],
      "source": [
        "from scipy import stats as st  # Импорт модуля scipy.stats с псевдонимом st\n",
        "\n",
        "mu = 420    # Задание значения среднего (mu)\n",
        "sigma = 65  # Задание значения стандартного отклонения (sigma)\n",
        "prob = 0.9  # Задание значения вероятности (prob)\n",
        "\n",
        "distr = st.norm(mu, sigma)                               # Создание объекта нормального распределения с заданными параметрами (mu, sigma)\n",
        "\n",
        "n_shipment = distr.ppf(1 - prob)                         # Вычисление количества товара, которое нужно заказать, используя квантиль функцию ppf() с вероятностью 1 - prob\n",
        "\n",
        "print('Нужно заказать единиц товара:', int(n_shipment))  # Вывод количества товара, округленного до целого значения\n"
      ]
    },
    {
      "attachments": {},
      "cell_type": "markdown",
      "metadata": {
        "id": "0hH3pPKIRqMR"
      },
      "source": [
        "## Формула Байеса"
      ]
    },
    {
      "attachments": {},
      "cell_type": "markdown",
      "metadata": {},
      "source": [
        "Из формулы условной вероятности легко вывести формулу Байеса:\n",
        "\n",
        "$P(A\\cap B) = P(A|B) * P(B) = P(B|A) * P(A)$\n",
        "\n",
        "$P(A|B) = \\frac{P(B|A)P(A)}{P(B)}$\n"
      ]
    },
    {
      "attachments": {},
      "cell_type": "markdown",
      "metadata": {},
      "source": [
        "## Теорема Байеса"
      ]
    },
    {
      "attachments": {},
      "cell_type": "markdown",
      "metadata": {},
      "source": [
        "$P(A_k|B) = \\frac{P(B|A_k)P(A_k)}{\\sum_{i=0}^nP(B|A_i)P(A_i)}$"
      ]
    },
    {
      "attachments": {},
      "cell_type": "markdown",
      "metadata": {},
      "source": [
        "Задача:\n",
        "\n",
        "В шляпе лежит 3 карточки: одна черная с двух сторон, вторая белая с 2-х сторон, третья - с одной стороны белая, с другой - черная. Мы достаем случайную карточку и видим, что ее лицевая сторона - белая. Какова вероятность, что обратная сторона тоже белая?"
      ]
    },
    {
      "attachments": {},
      "cell_type": "markdown",
      "metadata": {},
      "source": [
        "$A_1=ББ$ \\\n",
        "$A_2=БЧ$ \\\n",
        "$A_3=ЧЧ$\n",
        "\n",
        "$B - лицевая\\ сторона\\ белая$\n",
        "\n",
        "$P(A_1|B) = \\frac{P(B|A_1)P(A_1)}{\\sum_{i=0}^3P(B|A_i)P(A_i)} = \\frac{1 * 1/3}{P(B|A_1)P(A_1) + P(B|A_2)P(A_2) + P(B|A_3)P(A_3)} = \\frac{1/3}{1/3 + 1/2*1/3 + 0} = \\frac{1/3}{1/2} = 2/3$ "
      ]
    },
    {
      "attachments": {},
      "cell_type": "markdown",
      "metadata": {
        "id": "RVKkMjnfRo71"
      },
      "source": [
        "## Формула полной вероятности"
      ]
    },
    {
      "attachments": {},
      "cell_type": "markdown",
      "metadata": {
        "id": "dSKFwKSCUvBf"
      },
      "source": [
        "Условие: \n",
        "\n",
        "$\\Omega = A_1 \\cup A_2 \\cup ... \\cup A_n;$ \\\n",
        "$ A_i \\cap A_j = \\emptyset$ при $i \\ne j;$ \\\n",
        "$ P(A_i) > 0;$\n",
        "\n",
        "Тогда: \n",
        "\n",
        "$B = B \\cap \\bigcup_{i=1}^n A_i = \\bigcup_{i=1}^n B \\cap A_i$ \\\n",
        "\n",
        "Посчитаем вероятности: \n",
        "\n",
        "$P(B) = \\sum_{i=0}^nP(B\\cap A_i) =  \\sum_{i=0}^nP(B|A_i)P(A_i)$ \\\n",
        "$P(B) = \\sum_{i=0}^nP(B|A_i)P(A_i)$\n",
        "\n",
        "В частности:\n",
        "\n",
        "$P(B) = P(B|A)P(A) + P(B|\\overline{A})P(\\overline{A})$"
      ]
    },
    {
      "attachments": {},
      "cell_type": "markdown",
      "metadata": {},
      "source": [
        "B - возмем зонт \n",
        "\n",
        "A - идет дождь"
      ]
    }
  ],
  "metadata": {
    "colab": {
      "collapsed_sections": [
        "0hH3pPKIRqMR",
        "RVKkMjnfRo71"
      ],
      "name": "Теория вероятностей.ipynb",
      "provenance": []
    },
    "kernelspec": {
      "display_name": "Python 3",
      "name": "python3"
    },
    "language_info": {
      "codemirror_mode": {
        "name": "ipython",
        "version": 3
      },
      "file_extension": ".py",
      "mimetype": "text/x-python",
      "name": "python",
      "nbconvert_exporter": "python",
      "pygments_lexer": "ipython3",
      "version": "3.11.3"
    }
  },
  "nbformat": 4,
  "nbformat_minor": 0
}
